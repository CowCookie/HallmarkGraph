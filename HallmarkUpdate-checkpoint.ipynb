{
 "cells": [
  {
   "cell_type": "code",
   "execution_count": null,
   "metadata": {},
   "outputs": [],
   "source": [
    "# Import libraries\n",
    "import requests\n",
    "from bs4 import BeautifulSoup\n",
    "import pandas as pd\n",
    "from neo4j import __version__ as neo4j_version\n",
    "from neo4j import GraphDatabase\n",
    "import os\n",
    "import os.path\n",
    "import ssl\n",
    "import stat\n",
    "import subprocess\n",
    "import sys\n",
    "\n",
    "ssl._create_default_https_context = ssl._create_unverified_context"
   ]
  },
  {
   "cell_type": "code",
   "execution_count": null,
   "metadata": {},
   "outputs": [],
   "source": [
    "#Define the Neo4j connection class\n",
    "\n",
    "class Neo4jConnection:\n",
    "    \n",
    "    def __init__(self, uri, user, pwd):\n",
    "        self.__uri = uri\n",
    "        self.__user = user\n",
    "        self.__pwd = pwd\n",
    "        self.__driver = None\n",
    "        try:\n",
    "            self.__driver = GraphDatabase.driver(self.__uri, auth=(self.__user, self.__pwd))\n",
    "        except Exception as e:\n",
    "            print(\"Failed to create the driver:\", e)\n",
    "        \n",
    "    def close(self):\n",
    "        if self.__driver is not None:\n",
    "            self.__driver.close()\n",
    "        \n",
    "    def query(self, query, db=None):\n",
    "        assert self.__driver is not None, \"Driver not initialized!\"\n",
    "        session = None\n",
    "        response = None\n",
    "        try: \n",
    "            session = self.__driver.session(database=db) if db is not None else self.__driver.session() \n",
    "            response = list(session.run(query))\n",
    "        except Exception as e:\n",
    "            print(\"Query failed:\", e)\n",
    "        finally: \n",
    "            if session is not None:\n",
    "                session.close()\n",
    "        return response"
   ]
  },
  {
   "cell_type": "code",
   "execution_count": null,
   "metadata": {},
   "outputs": [],
   "source": [
    "# Extract names from cells\n",
    "def getNames(text):\n",
    "    names = []\n",
    "    \n",
    "    textSplit = text.split(',')\n",
    "    \n",
    "    for t in textSplit:\n",
    "        t_list = t.split(' and ')\n",
    "        \n",
    "        for tl in t_list:\n",
    "            if len(tl)>0:\n",
    "                tl = tl.strip()\n",
    "                names.append(tl)\n",
    "    return(names)"
   ]
  },
  {
   "cell_type": "code",
   "execution_count": null,
   "metadata": {},
   "outputs": [],
   "source": [
    "### CONNECTING TO NEO4J SERVER ###\n",
    "\n",
    "# Note that this is running locally on my laptop\n",
    "# Server must be running for any Neo4j interactions to work\n",
    "\n",
    "# Get uri, login and password from file \n",
    "f=open(\"neo4j.txt\",\"r\")\n",
    "lines=f.readlines()\n",
    "uri = lines[0].rstrip()\n",
    "NEOusername=lines[1].rstrip()\n",
    "NEOpassword=lines[2].rstrip()\n",
    "f.close()\n",
    "\n",
    "# Connect to Neo4j\n",
    "conn = Neo4jConnection(uri=\"bolt://localhost:7687\", user=NEOusername, pwd=NEOpassword)"
   ]
  },
  {
   "cell_type": "code",
   "execution_count": null,
   "metadata": {},
   "outputs": [],
   "source": [
    "# Pull tables from Wikipedia\n",
    "url = 'https://en.wikipedia.org/wiki/List_of_Hallmark_Channel_Original_Movies'\n",
    "df_list = pd.read_html(url)"
   ]
  },
  {
   "cell_type": "code",
   "execution_count": null,
   "metadata": {},
   "outputs": [],
   "source": [
    "for df in df_list[7:26]:\n",
    "    for ind in df.index:\n",
    "        movie = df['Movie'][ind]\n",
    "        stars = df['Starring'][ind]\n",
    "        directors = df['Director'][ind]\n",
    "        date = df['Original airdate'][ind]\n",
    "        \n",
    "        stars_list = getNames(stars)\n",
    "        directors_list = getNames(directors)\n",
    "        \n",
    "        print(movie)\n",
    "        \n",
    "        # Create movie node\n",
    "        query_string = \"CREATE (m:Movie {Name:\\\"\"+movie+\"\\\", Date:\\\"\"+date+\"\\\"})\"\n",
    "        conn.query(query_string, db='neo4j')\n",
    "        \n",
    "        # Merge stars node and create relationships\n",
    "        \n",
    "        for s in stars_list:\n",
    "            query_string = \"MERGE (p:Person {Name:\\\"\"+s+\"\\\"})\"                \n",
    "            conn.query(query_string, db='neo4j')\n",
    "            \n",
    "            query_string = \"MATCH (p:Person), (m:Movie) WHERE p.Name = \\\"\"+s+\"\\\" AND m.Name =\\\"\"+movie+\"\\\" CREATE (p)-[r:ACTED_IN]->(m)\"\n",
    "            conn.query(query_string, db='neo4j')\n",
    "            \n",
    "        \n",
    "        # Merge director nodes\n",
    "        \n",
    "        for d in directors_list:\n",
    "            query_string = \"MERGE (p:Person {Name:\\\"\"+d+\"\\\"})\"                \n",
    "            conn.query(query_string, db='neo4j')\n",
    "\n",
    "            query_string = \"MATCH (p:Person), (m:Movie) WHERE p.Name = \\\"\"+d+\"\\\" AND m.Name =\\\"\"+movie+\"\\\" CREATE (p)-[r:DIRECTED]->(m)\"\n",
    "            conn.query(query_string, db='neo4j')        \n",
    "        \n",
    "        \n",
    "        \n",
    "        \n",
    "        "
   ]
  }
 ],
 "metadata": {
  "kernelspec": {
   "display_name": "Python 3",
   "language": "python",
   "name": "python3"
  },
  "language_info": {
   "codemirror_mode": {
    "name": "ipython",
    "version": 3
   },
   "file_extension": ".py",
   "mimetype": "text/x-python",
   "name": "python",
   "nbconvert_exporter": "python",
   "pygments_lexer": "ipython3",
   "version": "3.8.3"
  }
 },
 "nbformat": 4,
 "nbformat_minor": 4
}
